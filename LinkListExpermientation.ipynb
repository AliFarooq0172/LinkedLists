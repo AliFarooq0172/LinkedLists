{
  "nbformat": 4,
  "nbformat_minor": 0,
  "metadata": {
    "colab": {
      "provenance": []
    },
    "kernelspec": {
      "name": "python3",
      "display_name": "Python 3"
    },
    "language_info": {
      "name": "python"
    }
  },
  "cells": [
    {
      "cell_type": "code",
      "execution_count": 51,
      "metadata": {
        "id": "JZxx_cpj243H"
      },
      "outputs": [],
      "source": [
        "import numpy as np\n",
        "\n",
        "class node:\n",
        "  def __init__(self, data=None):\n",
        "    self.data=data\n",
        "    self.next=None\n",
        "\n",
        "# User will never directly interact with this node class\n",
        "# We will create a wrapper function for this node class, and that Wrapper Function will be our Linked List.\n",
        "\n",
        "class linked_list:\n",
        "  def __init__(self):\n",
        "    self.head = node() # Just a placeholder, never gonna initialize this, this is just a pointer to the first Node of our Linked List\n",
        "\n",
        "  # Append Function will be used to create the first element of the List\n",
        "  def append(self, data):\n",
        "    new_node = node(data)\n",
        "    cur = self.head\n",
        "\n",
        "    # So when the linked list is empty, self.next = None, so when its not None, then we will insert the new Node as the next Node.\n",
        "    while cur.next!=None:\n",
        "      cur = cur.next #Just traverse through the list.\n",
        "\n",
        "    cur.next = new_node\n",
        "\n",
        "  #Function to figure out the Length of the Linked List.\n",
        "  def length(self):\n",
        "    cur = self.head #current pointer pointing to the head\n",
        "    total = 0 #total number of nodes we have seen: at this point it's zero. (counter)\n",
        "    # Iterating over our Nodes.\n",
        "    while cur.next!=None:\n",
        "      total += 1 # Counter increment\n",
        "      cur = cur.next # Traversing to the next node\n",
        "    # When cur.next=None , meaning that there is no node after the current node, then the while loop will be exited and...\n",
        "    return total # This will contain the number of nodes in the list\n",
        "\n",
        "  # Displaying the current items of the Linked List.\n",
        "  def display(self):\n",
        "    elems = [] # Creating a list of elements that we will see in the Linked List\n",
        "    cur_node = self.head # New Var for the current Node that we'll be looking at, and set it to the head of the Linked List\n",
        "\n",
        "    # Same loop as before, to traverse over the Linked List.\n",
        "    while cur_node.next!=None:\n",
        "      cur_node = cur_node.next # Setting the current Node as the next Node.\n",
        "      elems.append(cur_node.data) # Append the Data of the current Node to the elements List that we have created.\n",
        "\n",
        "    # When the Loop ends, we have have all the Data of the Linked List, stored in our elements List, we can either return the List, or print it out.\n",
        "    # I am printing it out, as it is a Display Function, you can simply use return elems to return the Elements List.\n",
        "    print (elems)\n",
        "\n",
        "  def display2(self): # Displaying with a different Logic (Pls ignore, helper function for prob 2)\n",
        "    elems = []\n",
        "    cur_node = self.head.next\n",
        "    while cur_node:\n",
        "        elems.append(cur_node.data)\n",
        "        cur_node = cur_node.next\n",
        "    print(elems)\n",
        "\n",
        "\n",
        "  # Extractor Function: to extract Data from a Certain Node in the Linked List, using an Index.\n",
        "  def get(self, index):\n",
        "\n",
        "    # Error Handling, if index that we pass, is out of range for the Linked List\n",
        "    if index >= self.length():\n",
        "      print (\"ERROR: 'Get' Index out of Range :( \")\n",
        "      return None\n",
        "\n",
        "    cur_idx = 0\n",
        "    cur_node = self.head\n",
        "    while True:\n",
        "      cur_node = cur_node.next\n",
        "      if cur_idx == index: return cur_node.data\n",
        "      cur_idx += 1\n",
        "\n",
        "  # Erase Function to Delete a Node from the Linked List\n",
        "  def delete(self, index):\n",
        "    if index >= self.length():  # Same error handling ;)\n",
        "      print (\"ERROR: 'Get' Index out of Range :( \")\n",
        "      return None\n",
        "\n",
        "    cur_idx = 0\n",
        "    cur_node = self.head\n",
        "    while True:\n",
        "      last_node = cur_node\n",
        "      cur_node = cur_node.next\n",
        "      if cur_idx == index:\n",
        "        last_node.next = cur_node.next # The node before the deleting cur_node, will now point to the node after the cur_node.\n",
        "        return\n",
        "\n",
        "      # Now, if the current node is not the one to be deleted, then we will simply increment the node index\n",
        "      cur_idx += 1\n",
        "\n",
        "  # PROB #1: Kth Node from the end\n",
        "  def kth_from_end(self, k):\n",
        "        p1 = self.head\n",
        "        p2 = self.head\n",
        "\n",
        "        for i in range(k):\n",
        "            if p1.next == None:    #Error handling such that there is only one node in the linked list\n",
        "                return None\n",
        "            p1 = p1.next           # Moving p1 to the next one until the difference b/w p1 and p2 is equal to \"k\"\n",
        "\n",
        "        while p1.next != None:    # Moving both p1 & p2 to the next node until p1 Points to the tail of the linked list\n",
        "            p1 = p1.next\n",
        "            p2 = p2.next\n",
        "\n",
        "        return str(p2.data)            # By the end of the While Loop, p2 will be pointing to the kth node from the tail\n",
        "\n",
        "  # PROB #4: Reversing a Linked List Iteratively\n",
        "  def reverse_iterative(self):\n",
        "    prev = None                   # Pointer = This will soon point to the Tail of the new reversed linked list\n",
        "\n",
        "    # Current Pointer points to the second node (will skip the head node as it is dummy, as per the constructor of self linked list)\n",
        "    current = self.head.next\n",
        "\n",
        "    while current:                # For the traversal of current Linked List, until current reaches the end\n",
        "        next_node = current.next  # To store the ref to the next node, so that we don't loose it later.\n",
        "        current.next = prev       # Reverses the direction of the next node, to point to the previous one\n",
        "        prev = current            # Makes the prev pointer the current one, for the next iteration\n",
        "        current = next_node       # Making the next node as current for the next iteration\n",
        "    self.head.next = prev\n",
        "    # After the loop completes, updates the next pointer of the dummy head node to point to the new head of the reversed linked list (prev).\n",
        "\n",
        "  # PROB #5: Reversing a Linked List Recursively.\n",
        "  def reverse_recursive(self):\n",
        "    def reverse_util(current, prev):  # Actual Recursion will take place here.\n",
        "        if not current:               # Base Case for Recursion: If (current = None) => End of Linked List\n",
        "            return prev, prev         # Return: Head and Tail of the reversed List, in this case both are same\n",
        "        next_node = current.next      # Makes the prev pointer the current one, for the next iteration\n",
        "        current.next = prev           # Making the next node as current for the next iteration\n",
        "\n",
        "        # New, recursively call the sub-function, with next node as the new current, and current node as the new prev\n",
        "        return reverse_util(next_node, current)\n",
        "\n",
        "    # Initiates the recursive reversal, args = (First node, prev=None)\n",
        "    # \"_\" is used to discard the second return value (prev), as it was only needed for the recursive reversal\n",
        "    new_head, _ = reverse_util(self.head.next, None)\n",
        "\n",
        "    # Updates the head of the original linked list to point to the new head of the reversed list (new_head), hence completing the reversal in place.\n",
        "    self.head.next = new_head"
      ]
    },
    {
      "cell_type": "code",
      "source": [
        "# Now we will simply Test the Data Linked List ;)\n",
        "\n",
        "test_list = linked_list()\n",
        "test_list.display()"
      ],
      "metadata": {
        "colab": {
          "base_uri": "https://localhost:8080/"
        },
        "id": "DHL-xU3J95Jk",
        "outputId": "aa4eb818-673e-45fd-ac42-284fc713bc1e"
      },
      "execution_count": 52,
      "outputs": [
        {
          "output_type": "stream",
          "name": "stdout",
          "text": [
            "[]\n"
          ]
        }
      ]
    },
    {
      "cell_type": "code",
      "source": [
        "# Testing out the Append Function\n",
        "\n",
        "test_list.append(1)\n",
        "test_list.append(\"Ali\")\n",
        "test_list.append(\"US Mobile\")\n",
        "\n",
        "test_list.display()"
      ],
      "metadata": {
        "colab": {
          "base_uri": "https://localhost:8080/"
        },
        "id": "Kh0z82uW-ZdS",
        "outputId": "23bde118-1884-4e90-add3-8bea6a796f05"
      },
      "execution_count": 53,
      "outputs": [
        {
          "output_type": "stream",
          "name": "stdout",
          "text": [
            "[1, 'Ali', 'US Mobile']\n"
          ]
        }
      ]
    },
    {
      "cell_type": "code",
      "source": [
        "# Testing the Extractor Function\n",
        "test_list.get(2)"
      ],
      "metadata": {
        "colab": {
          "base_uri": "https://localhost:8080/",
          "height": 35
        },
        "id": "JJzPm6Ws-0D6",
        "outputId": "51be1082-543c-484f-9f85-e6a763188310"
      },
      "execution_count": 54,
      "outputs": [
        {
          "output_type": "execute_result",
          "data": {
            "text/plain": [
              "'US Mobile'"
            ],
            "application/vnd.google.colaboratory.intrinsic+json": {
              "type": "string"
            }
          },
          "metadata": {},
          "execution_count": 54
        }
      ]
    },
    {
      "cell_type": "code",
      "source": [
        "# Erase Function Testing, after appending some data into the Linked List.\n",
        "\n",
        "test_list.append(1)\n",
        "test_list.append(\"Ali\")\n",
        "test_list.append(\"US Mobile\")\n",
        "\n",
        "print (\"Before Deletion: \")\n",
        "test_list.display()"
      ],
      "metadata": {
        "colab": {
          "base_uri": "https://localhost:8080/"
        },
        "id": "NeC17G3g_45s",
        "outputId": "70f0a2c5-de6f-4507-bc17-b3029c0f8319"
      },
      "execution_count": 55,
      "outputs": [
        {
          "output_type": "stream",
          "name": "stdout",
          "text": [
            "Before Deletion: \n",
            "[1, 'Ali', 'US Mobile', 1, 'Ali', 'US Mobile']\n"
          ]
        }
      ]
    },
    {
      "cell_type": "code",
      "source": [
        "# Using the Erase Function\n",
        "test_list.delete(5)\n",
        "test_list.delete(4)\n",
        "test_list.delete(3)\n",
        "\n",
        "print (\"After Deletion: \")\n",
        "test_list.display()"
      ],
      "metadata": {
        "colab": {
          "base_uri": "https://localhost:8080/"
        },
        "id": "IsF2CwRHE2XU",
        "outputId": "41de39e3-9147-4270-a4e4-1dff269e2aa1"
      },
      "execution_count": 56,
      "outputs": [
        {
          "output_type": "stream",
          "name": "stdout",
          "text": [
            "After Deletion: \n",
            "[1, 'Ali', 'US Mobile']\n"
          ]
        }
      ]
    },
    {
      "cell_type": "markdown",
      "source": [
        "**LINKED LISTS' PROBLEMS**"
      ],
      "metadata": {
        "id": "04JqrF0lIikj"
      }
    },
    {
      "cell_type": "code",
      "source": [
        "# For our problems, we will create a large linked list\n",
        "prob = linked_list()\n",
        "prob.append(10)\n",
        "prob.append(9)\n",
        "prob.append(8)\n",
        "prob.append(7)\n",
        "prob.append(6)\n",
        "prob.append(5)\n",
        "prob.append(4)\n",
        "prob.append(3)\n",
        "prob.append(2)\n",
        "prob.append(1)\n",
        "\n",
        "prob.display()"
      ],
      "metadata": {
        "colab": {
          "base_uri": "https://localhost:8080/"
        },
        "id": "L-hV4IBFGp6l",
        "outputId": "c53790d7-2d91-4976-e69a-25f5c28eecd1"
      },
      "execution_count": 57,
      "outputs": [
        {
          "output_type": "stream",
          "name": "stdout",
          "text": [
            "[10, 9, 8, 7, 6, 5, 4, 3, 2, 1]\n"
          ]
        }
      ]
    },
    {
      "cell_type": "code",
      "source": [
        "# PROB #1: Finding the K-th element from the Tail of the Linked List.\n",
        "\n",
        "print(prob.kth_from_end(2) + \" -> \" + prob.kth_from_end(1) + \" -> \" + prob.kth_from_end(0))"
      ],
      "metadata": {
        "colab": {
          "base_uri": "https://localhost:8080/"
        },
        "id": "yH-Vv9m4JMAZ",
        "outputId": "769485aa-1203-4c4e-adfa-e7fe7ac7f42f"
      },
      "execution_count": 58,
      "outputs": [
        {
          "output_type": "stream",
          "name": "stdout",
          "text": [
            "3 -> 2 -> 1\n"
          ]
        }
      ]
    },
    {
      "cell_type": "code",
      "source": [
        "# PROB #2: Creating two linked lists with an intersection point, for our PROB 2.\n",
        "\n",
        "# Create the first linked list\n",
        "n1 = linked_list()\n",
        "n1.append(1)\n",
        "n1.append(2)\n",
        "n1.append(3)\n",
        "n1.append(4)\n",
        "n1.append(5)\n",
        "\n",
        "# Create the second linked list\n",
        "n2 = linked_list()\n",
        "n2.append(6)\n",
        "n2.append(7)\n",
        "n2.append(8)\n",
        "\n",
        "# Create the intersection point\n",
        "intersection_node = node(9)\n",
        "n1_node = n1.head\n",
        "for i in range(3):\n",
        "    n1_node = n1_node.next\n",
        "n2_node = n2.head\n",
        "while n2_node.next:\n",
        "    n2_node = n2_node.next\n",
        "n2_node.next = intersection_node\n",
        "intersection_node.next = n1_node.next # making the intersection node point to the next node in the first linked list.\n",
        "n1_node.next = intersection_node\n",
        "\n",
        "# Print the linked lists\n",
        "print(\"Linked List 1:\")\n",
        "n1.display()\n",
        "print(\"Linked List 2:\")\n",
        "n2.display()"
      ],
      "metadata": {
        "id": "Tt7qmbkcKWKd",
        "colab": {
          "base_uri": "https://localhost:8080/"
        },
        "outputId": "a41701ae-bc50-4b74-d2a1-35f0a2874158"
      },
      "execution_count": 59,
      "outputs": [
        {
          "output_type": "stream",
          "name": "stdout",
          "text": [
            "Linked List 1:\n",
            "[1, 2, 3, 9, 4, 5]\n",
            "Linked List 2:\n",
            "[6, 7, 8, 9, 4, 5]\n"
          ]
        }
      ]
    },
    {
      "cell_type": "code",
      "source": [
        "# As the two linked lists with intersection point has been created, we will now be implementing a function from which we will determine the interserction point\n",
        "\n",
        "def find_intersection(list1, list2):  # We have defined a separate function for to find the Intersection point of the linked list\n",
        "\n",
        "    #If the last node of the two linked lists are the same, then we can see that there is an intersection point for the two linked lists\n",
        "    def get_length_and_last_node(lst): # Sub-Function created whcih takes an input list and returns the length and last node of a linked list\n",
        "        length = 0\n",
        "        last_node = None\n",
        "        current = lst.head # Current pointer must point to the head of the Linked List\n",
        "        while current:  # kength is used as a counter for the lenght of the linked list.\n",
        "            length += 1\n",
        "            last_node = current # Last node will always be the current pointer.\n",
        "            current = current.next  # Current pointer will traverse the Linked List.\n",
        "        return length, last_node\n",
        "\n",
        "    # Length and the last nodes of both the linked lists are fetched by the sub-function.\n",
        "    len1, last_node1 = get_length_and_last_node(list1)\n",
        "    len2, last_node2 = get_length_and_last_node(list2)\n",
        "\n",
        "    # If the last nodes are different, there is no intersection (Error Handling, if there's no intersection point)\n",
        "    if last_node1 is not last_node2:\n",
        "        return None\n",
        "\n",
        "    # Reset pointers to the heads\n",
        "    current1, current2 = list1.head, list2.head\n",
        "\n",
        "    # Move pointers forward by the absolute difference in lengths\n",
        "    for _ in range(abs(len1 - len2)):\n",
        "        if len1 > len2:\n",
        "            current1 = current1.next\n",
        "        else:\n",
        "            current2 = current2.next\n",
        "\n",
        "    # Traverse both lists simultaneously until a common node is found\n",
        "    while current1 != current2:\n",
        "        current1 = current1.next\n",
        "        current2 = current2.next\n",
        "\n",
        "    # Return the intersection node (or None if no intersection)\n",
        "    return current1"
      ],
      "metadata": {
        "id": "nomsjPR2fvQG"
      },
      "execution_count": 60,
      "outputs": []
    },
    {
      "cell_type": "code",
      "source": [
        "# Find the intersection point\n",
        "intersection = find_intersection(n1, n2) # Sends both the Linked Lists as input.\n",
        "\n",
        "if intersection:\n",
        "    print(f\"Intersection Point: {intersection.data}\")\n",
        "else:\n",
        "    print(\"No Intersection Point\")"
      ],
      "metadata": {
        "colab": {
          "base_uri": "https://localhost:8080/"
        },
        "id": "n5IX1dhqmE5W",
        "outputId": "d738c69f-67c2-4618-cc9e-e8c361d545eb"
      },
      "execution_count": 61,
      "outputs": [
        {
          "output_type": "stream",
          "name": "stdout",
          "text": [
            "Intersection Point: 9\n"
          ]
        }
      ]
    },
    {
      "cell_type": "code",
      "source": [
        "# Let's check if it works on two linked lists with no intersection point.\n",
        "\n",
        "intersection = find_intersection(test_list, n2) # Sends both the Linked Lists as input.\n",
        "\n",
        "if intersection:\n",
        "    print(f\"Intersection Point: {intersection.data}\")\n",
        "else:\n",
        "    print(\"No Intersection Point\")"
      ],
      "metadata": {
        "colab": {
          "base_uri": "https://localhost:8080/"
        },
        "id": "UVWmCoWqmKcz",
        "outputId": "7677a025-d9c4-4998-abf5-27967b284413"
      },
      "execution_count": 62,
      "outputs": [
        {
          "output_type": "stream",
          "name": "stdout",
          "text": [
            "No Intersection Point\n"
          ]
        }
      ]
    },
    {
      "cell_type": "code",
      "source": [
        "# PROB #3: Finding out if the linked list has a CYCLE/LOOP\n",
        "\n",
        "def has_cycle(head):\n",
        "    if not head or not head.next: # Checks if the linked list is empty or has only one node\n",
        "        return False              # Returns nothing if condition is true\n",
        "\n",
        "    # Next we define two pointers, adjacent to each other, one is one more step ahead of the other.\n",
        "    slow = head\n",
        "    fast = head.next\n",
        "\n",
        "    # Whilst the slow pointer is not equal to the fast one\n",
        "    while slow != fast:         # If they are equal, then there is a loop\n",
        "        if not fast or not fast.next:   # If the fast pointer reaches the end of the linked list, then return false\n",
        "            return False                # No loop found.\n",
        "\n",
        "        # Else, we will simply traverse both the pointers to the next Node\n",
        "        slow = slow.next\n",
        "        fast = fast.next.next\n",
        "    # The While loop will automatically break when the Loop is found, meaning that slow and fast pointers are pointing to the same node.\n",
        "    return True"
      ],
      "metadata": {
        "id": "_fTej9RUmXcT"
      },
      "execution_count": 63,
      "outputs": []
    },
    {
      "cell_type": "code",
      "source": [
        "# TESTing the Loop\n",
        "\n",
        "# We will now be creating a Singly Linked list with a loop\n",
        "\n",
        "n3 = linked_list()\n",
        "\n",
        "n3.append(1)\n",
        "n3.append(2)\n",
        "n3.append(3)\n",
        "n3.append(4)\n",
        "n3.append(5)\n",
        "\n",
        "last_node = n3.head   # Defining a pointer to point at the head of our new linked list\n",
        "while last_node.next:\n",
        "    last_node = last_node.next      # While loop will end once it finds the last node.\n",
        "last_node.next = n3.head.next       # Last node will point to the second node of the linked list.\n"
      ],
      "metadata": {
        "id": "rScIutavjNYu"
      },
      "execution_count": 64,
      "outputs": []
    },
    {
      "cell_type": "code",
      "source": [
        "# # If this will keep running, means that the Singly Linked List with the loop is created successfully.\n",
        "\n",
        "# n3.display()\n",
        "\n",
        "# # Why doesn't it display the linked list?\n",
        "# # Well, it has a loop, so it will keep traversing from the second node of the linked list again and again, after reaching the end.\n",
        "# # Don't run this cell, as it will eat up your resources :D\n",
        "\n",
        "# # Pretty self-explanatory right?\n",
        "# # Enough with the drama, let's dive right into the testing of our function ;)"
      ],
      "metadata": {
        "id": "5-ofdHLYjPJF"
      },
      "execution_count": 65,
      "outputs": []
    },
    {
      "cell_type": "code",
      "source": [
        "# Now, we're gonna test the function, by passing our linked list's head as an argument.\n",
        "\n",
        "has_loop = has_cycle(n3.head)\n",
        "\n",
        "if has_loop:\n",
        "    print(\"The linked list has a cycle.\")\n",
        "else:\n",
        "    print(\"The linked list does not have a cycle.\")\n",
        "\n",
        "    # Easy ... right? (o_o)"
      ],
      "metadata": {
        "colab": {
          "base_uri": "https://localhost:8080/"
        },
        "id": "9nu_frXIjRT4",
        "outputId": "8dd8de2f-1cd2-4092-df0c-9e5680789d8e"
      },
      "execution_count": 66,
      "outputs": [
        {
          "output_type": "stream",
          "name": "stdout",
          "text": [
            "The linked list has a cycle.\n"
          ]
        }
      ]
    },
    {
      "cell_type": "code",
      "source": [
        "# PROB #4: Reversing a Linked List ITERATIVELY\n",
        "\n",
        "# Refer to the function defined in the linked list class (Thought it was better to keep the code clean)\n",
        "\n",
        "# Display original linked list\n",
        "print(\"Original Linked List:\")\n",
        "n1.display()\n",
        "\n",
        "# Reverse the linked list iteratively\n",
        "n1.reverse_iterative()\n",
        "\n",
        "# Display reversed linked list\n",
        "print(\"\\nReversed Linked List:\")\n",
        "n1.display()"
      ],
      "metadata": {
        "colab": {
          "base_uri": "https://localhost:8080/"
        },
        "id": "JgNQxjmljUhJ",
        "outputId": "4604da9a-786e-4958-df08-8b04deaf37c4"
      },
      "execution_count": 67,
      "outputs": [
        {
          "output_type": "stream",
          "name": "stdout",
          "text": [
            "Original Linked List:\n",
            "[1, 2, 3, 9, 4, 5]\n",
            "\n",
            "Reversed Linked List:\n",
            "[5, 4, 9, 3, 2, 1]\n"
          ]
        }
      ]
    },
    {
      "cell_type": "code",
      "source": [
        "# PROB #5: Reversing a Linked List RECURSIVELY\n",
        "\n",
        "# Refer to the function defined in the linked list class (Thought it was better to keep the code clean)\n",
        "\n",
        "# Display original linked list\n",
        "print(\"Original Linked List:\")\n",
        "n2.display()\n",
        "\n",
        "# Reverse the linked list iteratively\n",
        "n2.reverse_recursive()\n",
        "\n",
        "# Display reversed linked list\n",
        "print(\"\\nReversed Linked List:\")\n",
        "n2.display()"
      ],
      "metadata": {
        "colab": {
          "base_uri": "https://localhost:8080/"
        },
        "id": "ULVk98Mkrzw0",
        "outputId": "9438127b-8e9d-47f0-af0e-ded0c6aa36ea"
      },
      "execution_count": 68,
      "outputs": [
        {
          "output_type": "stream",
          "name": "stdout",
          "text": [
            "Original Linked List:\n",
            "[6, 7, 8, 9, 3, 2, 1]\n",
            "\n",
            "Reversed Linked List:\n",
            "[1, 2, 3, 9, 8, 7, 6]\n"
          ]
        }
      ]
    },
    {
      "cell_type": "code",
      "source": [],
      "metadata": {
        "id": "hzVvnqBXzPjR"
      },
      "execution_count": null,
      "outputs": []
    }
  ]
}